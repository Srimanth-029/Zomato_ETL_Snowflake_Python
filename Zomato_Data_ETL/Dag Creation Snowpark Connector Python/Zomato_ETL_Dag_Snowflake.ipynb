{
 "cells": [
  {
   "cell_type": "code",
   "execution_count": 51,
   "id": "8ce3aa62-de9a-4437-8a7f-74bc4b38262f",
   "metadata": {},
   "outputs": [],
   "source": [
    "from datetime import timedelta\n",
    "import pandas as pd\n",
    "from snowflake.snowpark import Session\n",
    "from snowflake.snowpark.functions import col\n",
    "from snowflake.core import Root, CreateMode\n",
    "from snowflake.core.database import Database\n",
    "from snowflake.core.schema import Schema\n",
    "from snowflake.core.stage import Stage\n",
    "from snowflake.core.table import Table, TableColumn, PrimaryKey\n",
    "from snowflake.core.task import StoredProcedureCall, Task\n",
    "from snowflake.core.task.dagv1 import DAGOperation, DAG, DAGTask\n",
    "from snowflake.core.warehouse import Warehouse\n",
    "from snowflake.core._common import CreateMode\n",
    "from snowflake.core.exceptions import NotFoundError"
   ]
  },
  {
   "cell_type": "code",
   "execution_count": 52,
   "id": "e209edcc-c865-47ab-9444-80cbe178540e",
   "metadata": {},
   "outputs": [],
   "source": [
    "connection_parms = {\n",
    "    'connection_name' : 'default'\n",
    "}"
   ]
  },
  {
   "cell_type": "code",
   "execution_count": 53,
   "id": "dae60b89-d1b2-43e8-940d-7d083c203595",
   "metadata": {},
   "outputs": [],
   "source": [
    "session = Session.builder.configs(connection_parms).create()"
   ]
  },
  {
   "cell_type": "code",
   "execution_count": 54,
   "id": "91ecd3d9-74bf-4416-aaef-21d8d67dba22",
   "metadata": {},
   "outputs": [],
   "source": [
    "root = Root(session)"
   ]
  },
  {
   "cell_type": "code",
   "execution_count": 12,
   "id": "d80837ff-b0af-4fca-a699-a2b42807b5b8",
   "metadata": {},
   "outputs": [],
   "source": [
    "df = root.databases['ZOMATO_ETL'].schemas['DBO'].tables['CITY'].fetch()"
   ]
  },
  {
   "cell_type": "code",
   "execution_count": 5,
   "id": "16ee7cc0-1fe4-4008-bb10-1141d0656205",
   "metadata": {},
   "outputs": [],
   "source": [
    "df = session.table('ZOMATO_ETL.DBO.CITY').to_pandas()"
   ]
  },
  {
   "cell_type": "code",
   "execution_count": null,
   "id": "6edb45ae-878a-4922-ac13-d798ffdc9f69",
   "metadata": {},
   "outputs": [],
   "source": [
    "df.head()"
   ]
  },
  {
   "cell_type": "code",
   "execution_count": 56,
   "id": "2c8ba7c4-afdb-4a43-af67-6be8e18b1f3b",
   "metadata": {
    "scrolled": true
   },
   "outputs": [],
   "source": [
    "with DAG('Dag',schedule = timedelta(minutes = 1)) as dag:\n",
    "    dag_task_1 = DAGTask(\n",
    "        'usp_insStage_Task',\n",
    "        'CALL ZOMATO_ETL.DBO.sp_insstagetable()'\n",
    "        )\n",
    "    dag_task_2 = DAGTask(\n",
    "        'usp_InsStgtoMain_Task',\n",
    "        'CALL ZOMATO_ETL.DBO.sp_ins_stagetomain()'\n",
    "    )\n",
    "    dag_task_3 = DAGTask(\n",
    "        'usp_LkpValidateStageData_Task',\n",
    "        'CALL ZOMATO_ETL.DBO.sp_restaurant_lkp_data()'\n",
    "    )\n",
    "    dag_task_4 = DAGTask(\n",
    "        'insMainTable_Task',\n",
    "        '''INSERT INTO\n",
    "ZOMATO_ETL.DBO.Restaurant_Data_Mapping_Table(RESTAURANT_ID,RESTAURANT_AVERAGE_COST_FOR_TWO,RESTAURANT_CUISINE_ID,RESTAURANT_CURRENCY_ID,RESTAURANT_LOCATION_ID,HAS_ONLINE_DELIVERY,HAS_TABLE_BOOKING,RESTAURANT_RATING_ID,RESTAURANT_EVENT_ID,IS_ACTIVE,CREATED_BY,CREATED_DATE)\n",
    "SELECT t.RESTAURANT_ID,t.RESTAURANT_AVERAGE_COST_FOR_TWO,t.RESTAURANT_CUISINE_ID,t.RESTAURANT_CURRENCY_ID,t.RESTAURANT_LOCATION_ID,t.HAS_ONLINE_DELIVERY,t.HAS_TABLE_BOOKING,t.RESTAURANT_RATING_ID,t.RESTAURANT_EVENT_ID,t.IS_ACTIVE,t.CREATED_BY,t.CREATED_DATE FROM TABLE(sp_getlkptrsfmddata()) t\n",
    "LEFT JOIN ZOMATO_ETL.DBO.Restaurant_Data_Mapping_Table r\n",
    "ON t.RESTAURANT_ID = r.restaurant_id\n",
    "AND COALESCE(t.RESTAURANT_CUISINE_ID,0) = COALESCE(R.RESTAURANT_CUISINE_ID,0)\n",
    "AND T.RESTAURANT_CURRENCY_ID = R.RESTAURANT_CURRENCY_ID\n",
    "AND T.RESTAURANT_LOCATION_ID = R.RESTAURANT_LOCATION_ID\n",
    "AND t.RESTAURANT_RATING_ID = R.RESTAURANT_RATING_ID\n",
    "AND COALESCE(T.RESTAURANT_EVENT_ID,0) = COALESCE(R.RESTAURANT_EVENT_ID,0)\n",
    "AND T.IS_ACTIVE = TRUE\n",
    "WHERE R.RESTAURANT_ID IS NULL'''\n",
    "    )\n",
    "    dag_task_5 = DAGTask(\n",
    "        'Execute_Task_Rating_Data_Track',\n",
    "        '''INSERT INTO ZOMATO_ETL.DBO.USER_RATING_HISTORY(RESTAURANT_ID,AGGREGATE_RATING,RATING_TEXT,VOTES,IS_ACTIVE,START_DATE,END_DATE,CREATED_BY,CREATED_DATE)\n",
    "    select RESTAURANT_ID,AGGREGATE_RATING,RATING_TEXT,VOTES,IS_ACTIVE,START_DATE,END_DATE,CURRENT_USER(),CURRENT_TIMESTAMP() \n",
    "    from RATING_HISTORY RH'''\n",
    "    )\n",
    "    dag_task_6 = DAGTask(\n",
    "        'Execute_Task_Event_Update_Track',\n",
    "        'CALL ZOMATO_ETL.DBO.Event_Stream_Insert()'\n",
    "    )\n",
    "    \n",
    "dag_task_1>>dag_task_2>>dag_task_3>>dag_task_4>>dag_task_5>>dag_task_6\n",
    "schema = root.databases['ZOMATO_ETL'].schemas['DBO']\n",
    "dag_op = DAGOperation(schema)\n",
    "try:\n",
    "    dag_op.drop('dag')\n",
    "except NotFoundError:\n",
    "    pass\n",
    "dag_op.deploy(dag)"
   ]
  },
  {
   "cell_type": "code",
   "execution_count": null,
   "id": "761eb566-6c16-4a9d-ad6f-b6a98cb4d5c2",
   "metadata": {},
   "outputs": [],
   "source": []
  },
  {
   "cell_type": "code",
   "execution_count": null,
   "id": "e87df8a4-e94d-4c2b-848e-7ca96701d8d6",
   "metadata": {},
   "outputs": [],
   "source": []
  },
  {
   "cell_type": "code",
   "execution_count": null,
   "id": "2080b57a-154b-45ee-9951-3a963f9ce788",
   "metadata": {},
   "outputs": [],
   "source": []
  },
  {
   "cell_type": "code",
   "execution_count": null,
   "id": "ce4022c6-ab2b-4ff5-b817-780f3999c232",
   "metadata": {},
   "outputs": [],
   "source": []
  },
  {
   "cell_type": "code",
   "execution_count": null,
   "id": "4f350adb-6ada-4a61-bf9d-633cf3b611de",
   "metadata": {},
   "outputs": [],
   "source": []
  },
  {
   "cell_type": "code",
   "execution_count": null,
   "id": "32230517-13a9-44aa-9ee1-e989cdb7c5dc",
   "metadata": {},
   "outputs": [],
   "source": []
  }
 ],
 "metadata": {
  "kernelspec": {
   "display_name": "Python 3 (ipykernel)",
   "language": "python",
   "name": "python3"
  },
  "language_info": {
   "codemirror_mode": {
    "name": "ipython",
    "version": 3
   },
   "file_extension": ".py",
   "mimetype": "text/x-python",
   "name": "python",
   "nbconvert_exporter": "python",
   "pygments_lexer": "ipython3",
   "version": "3.8.19"
  }
 },
 "nbformat": 4,
 "nbformat_minor": 5
}
